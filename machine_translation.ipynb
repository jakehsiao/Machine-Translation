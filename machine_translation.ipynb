{
 "cells": [
  {
   "cell_type": "markdown",
   "metadata": {
    "collapsed": true,
    "deletable": true,
    "editable": true
   },
   "source": [
    "# Artificial Intelligence Nanodegree\n",
    "## Machine Translation Project\n",
    "In this notebook, sections that end with **'(IMPLEMENTATION)'** in the header indicate that the following blocks of code will require additional functionality which you must provide. Please be sure to read the instructions carefully!\n",
    "\n",
    "## Introduction\n",
    "In this notebook, you will build a deep neural network that functions as part of an end-to-end machine translation pipeline. Your completed pipeline will accept English text as input and return the French translation.\n",
    "\n",
    "- **Preprocess** - You'll convert text to sequence of integers.\n",
    "- **Models** Create models which accepts a sequence of integers as input and returns a probability distribution over possible translations. After learning about the basic types of neural networks that are often used for machine translation, you will engage in your own investigations, to design your own model!\n",
    "- **Prediction** Run the model on English text.\n",
    "\n",
    "## Dataset\n",
    "We begin by investigating the dataset that will be used to train and evaluate your pipeline.  The most common datasets used for machine translation are from [WMT](http://www.statmt.org/).  However, that will take a long time to train a neural network on.  We'll be using a dataset we created for this project that contains a small vocabulary.  You'll be able to train your model in a reasonable time with this dataset.\n",
    "### Load Data\n",
    "The data is located in `data/small_vocab_en` and `data/small_vocab_fr`. The `small_vocab_en` file contains English sentences with their French translations in the `small_vocab_fr` file. Load the English and French data from these files from running the cell below."
   ]
  },
  {
   "cell_type": "code",
   "execution_count": 1,
   "metadata": {
    "collapsed": false,
    "deletable": true,
    "editable": true
   },
   "outputs": [
    {
     "name": "stdout",
     "output_type": "stream",
     "text": [
      "Dataset Loaded\n"
     ]
    }
   ],
   "source": [
    "import helper\n",
    "\n",
    "\n",
    "# Load English data\n",
    "english_sentences = helper.load_data('data/small_vocab_en')\n",
    "# Load French data\n",
    "french_sentences = helper.load_data('data/small_vocab_fr')\n",
    "\n",
    "# ADD: add \"eos\" in each french sentences\n",
    "french_sentences = [sen+\" <EOS>\" for sen in french_sentences]\n",
    "\n",
    "print('Dataset Loaded')"
   ]
  },
  {
   "cell_type": "markdown",
   "metadata": {
    "deletable": true,
    "editable": true
   },
   "source": [
    "### Files\n",
    "Each line in `small_vocab_en` contains an English sentence with the respective translation in each line of `small_vocab_fr`.  View the first two lines from each file."
   ]
  },
  {
   "cell_type": "code",
   "execution_count": 2,
   "metadata": {
    "collapsed": false,
    "deletable": true,
    "editable": true
   },
   "outputs": [
    {
     "name": "stdout",
     "output_type": "stream",
     "text": [
      "small_vocab_en Line 1:  new jersey is sometimes quiet during autumn , and it is snowy in april .\n",
      "small_vocab_fr Line 1:  new jersey est parfois calme pendant l' automne , et il est neigeux en avril . <EOS>\n",
      "small_vocab_en Line 2:  the united states is usually chilly during july , and it is usually freezing in november .\n",
      "small_vocab_fr Line 2:  les états-unis est généralement froid en juillet , et il gèle habituellement en novembre . <EOS>\n"
     ]
    }
   ],
   "source": [
    "for sample_i in range(2):\n",
    "    print('small_vocab_en Line {}:  {}'.format(sample_i + 1, english_sentences[sample_i]))\n",
    "    print('small_vocab_fr Line {}:  {}'.format(sample_i + 1, french_sentences[sample_i]))"
   ]
  },
  {
   "cell_type": "markdown",
   "metadata": {
    "deletable": true,
    "editable": true
   },
   "source": [
    "From looking at the sentences, you can see they have been preprocessed already.  The puncuations have been delimited using spaces. All the text have been converted to lowercase.  This should save you some time, but the text requires more preprocessing.\n",
    "### Vocabulary\n",
    "The complexity of the problem is determined by the complexity of the vocabulary.  A more complex vocabulary is a more complex problem.  Let's look at the complexity of the dataset we'll be working with."
   ]
  },
  {
   "cell_type": "code",
   "execution_count": 3,
   "metadata": {
    "collapsed": false,
    "deletable": true,
    "editable": true
   },
   "outputs": [
    {
     "name": "stdout",
     "output_type": "stream",
     "text": [
      "1823250 English words.\n",
      "227 unique English words.\n",
      "10 Most common words in the English dataset:\n",
      "\"is\" \",\" \".\" \"in\" \"it\" \"during\" \"the\" \"but\" \"and\" \"sometimes\"\n",
      "\n",
      "2099156 French words.\n",
      "356 unique French words.\n",
      "10 Most common words in the French dataset:\n",
      "\"est\" \"<EOS>\" \".\" \",\" \"en\" \"il\" \"les\" \"mais\" \"et\" \"la\"\n"
     ]
    }
   ],
   "source": [
    "import collections\n",
    "\n",
    "\n",
    "english_words_counter = collections.Counter([word for sentence in english_sentences for word in sentence.split()])\n",
    "french_words_counter = collections.Counter([word for sentence in french_sentences for word in sentence.split()])\n",
    "\n",
    "print('{} English words.'.format(len([word for sentence in english_sentences for word in sentence.split()])))\n",
    "print('{} unique English words.'.format(len(english_words_counter)))\n",
    "print('10 Most common words in the English dataset:')\n",
    "print('\"' + '\" \"'.join(list(zip(*english_words_counter.most_common(10)))[0]) + '\"')\n",
    "print()\n",
    "print('{} French words.'.format(len([word for sentence in french_sentences for word in sentence.split()])))\n",
    "print('{} unique French words.'.format(len(french_words_counter)))\n",
    "print('10 Most common words in the French dataset:')\n",
    "print('\"' + '\" \"'.join(list(zip(*french_words_counter.most_common(10)))[0]) + '\"')"
   ]
  },
  {
   "cell_type": "markdown",
   "metadata": {
    "deletable": true,
    "editable": true
   },
   "source": [
    "For comparison, _Alice's Adventures in Wonderland_ contains 2,766 unique words of a total of 15,500 words.\n",
    "## Preprocess\n",
    "For this project, you won't use text data as input to your model. Instead, you'll convert the text into sequences of integers using the following preprocess methods:\n",
    "1. Tokenize the words into ids\n",
    "2. Add padding to make all the sequences the same length.\n",
    "\n",
    "Time to start preprocessing the data...\n",
    "### Tokenize (IMPLEMENTATION)\n",
    "For a neural network to predict on text data, it first has to be turned into data it can understand. Text data like \"dog\" is a sequence of ASCII character encodings.  Since a neural network is a series of multiplication and addition operations, the input data needs to be number(s).\n",
    "\n",
    "We can turn each character into a number or each word into a number.  These are called character and word ids, respectively.  Character ids are used for character level models that generate text predictions for each character.  A word level model uses word ids that generate text predictions for each word.  Word level models tend to learn better, since they are lower in complexity, so we'll use those.\n",
    "\n",
    "Turn each sentence into a sequence of words ids using Keras's [`Tokenizer`](https://keras.io/preprocessing/text/#tokenizer) function. Use this function to tokenize `english_sentences` and `french_sentences` in the cell below.\n",
    "\n",
    "Running the cell will run `tokenize` on sample data and show output for debugging."
   ]
  },
  {
   "cell_type": "code",
   "execution_count": 4,
   "metadata": {
    "collapsed": false
   },
   "outputs": [
    {
     "name": "stderr",
     "output_type": "stream",
     "text": [
      "Using TensorFlow backend.\n"
     ]
    }
   ],
   "source": [
    "import project_tests as tests\n",
    "from keras.preprocessing.text import Tokenizer"
   ]
  },
  {
   "cell_type": "code",
   "execution_count": 5,
   "metadata": {
    "collapsed": false,
    "deletable": true,
    "editable": true
   },
   "outputs": [
    {
     "name": "stdout",
     "output_type": "stream",
     "text": [
      "{'my': 12, 'won': 16, 'of': 14, 'this': 18, 'quick': 2, 'lexicography': 15, 'sentence': 21, 'by': 10, 'fox': 5, 'short': 20, 'brown': 4, 'the': 1, 'a': 3, 'prize': 17, 'lazy': 8, 'study': 13, 'jove': 11, 'dog': 9, 'over': 7, 'is': 19, 'jumps': 6}\n",
      "\n",
      "Sequence 1 in x\n",
      "  Input:  The quick brown fox jumps over the lazy dog .\n",
      "  Output: [1, 2, 4, 5, 6, 7, 1, 8, 9]\n",
      "Sequence 2 in x\n",
      "  Input:  By Jove , my quick study of lexicography won a prize .\n",
      "  Output: [10, 11, 12, 2, 13, 14, 15, 16, 3, 17]\n",
      "Sequence 3 in x\n",
      "  Input:  This is a short sentence .\n",
      "  Output: [18, 19, 3, 20, 21]\n"
     ]
    }
   ],
   "source": [
    "def tokenize(x):\n",
    "    \"\"\"\n",
    "    Tokenize x\n",
    "    :param x: List of sentences/strings to be tokenized\n",
    "    :return: Tuple of (tokenized x data, tokenizer used to tokenize x)\n",
    "    \"\"\"\n",
    "    # TODO: Implement\n",
    "    tokenizer = Tokenizer(filters='!\"#$%&()*+,-./:;=?@[\\\\]^_`{|}~\\t\\n')\n",
    "    tokenizer.fit_on_texts(x)\n",
    "    x_tokenized = tokenizer.texts_to_sequences(x)\n",
    "    return x_tokenized, tokenizer\n",
    "tests.test_tokenize(tokenize)\n",
    "\n",
    "# Tokenize Example output\n",
    "text_sentences = [\n",
    "    'The quick brown fox jumps over the lazy dog .',\n",
    "    'By Jove , my quick study of lexicography won a prize .',\n",
    "    'This is a short sentence .']\n",
    "text_tokenized, text_tokenizer = tokenize(text_sentences)\n",
    "print(text_tokenizer.word_index)\n",
    "print()\n",
    "for sample_i, (sent, token_sent) in enumerate(zip(text_sentences, text_tokenized)):\n",
    "    print('Sequence {} in x'.format(sample_i + 1))\n",
    "    print('  Input:  {}'.format(sent))\n",
    "    print('  Output: {}'.format(token_sent))"
   ]
  },
  {
   "cell_type": "markdown",
   "metadata": {
    "deletable": true,
    "editable": true
   },
   "source": [
    "### Padding (IMPLEMENTATION)\n",
    "When batching the sequence of word ids together, each sequence needs to be the same length.  Since sentences are dynamic in length, we can add padding to the end of the sequences to make them the same length.\n",
    "\n",
    "Make sure all the English sequences have the same length and all the French sequences have the same length by adding padding to the **end** of each sequence using Keras's [`pad_sequences`](https://keras.io/preprocessing/sequence/#pad_sequences) function."
   ]
  },
  {
   "cell_type": "code",
   "execution_count": 6,
   "metadata": {
    "collapsed": true
   },
   "outputs": [],
   "source": [
    "import numpy as np\n",
    "from keras.preprocessing.sequence import pad_sequences"
   ]
  },
  {
   "cell_type": "code",
   "execution_count": 7,
   "metadata": {
    "collapsed": false,
    "deletable": true,
    "editable": true
   },
   "outputs": [
    {
     "name": "stdout",
     "output_type": "stream",
     "text": [
      "Sequence 1 in x\n",
      "  Input:  [1 2 4 5 6 7 1 8 9]\n",
      "  Output: [1 2 4 5 6 7 1 8 9 0]\n",
      "Sequence 2 in x\n",
      "  Input:  [10 11 12  2 13 14 15 16  3 17]\n",
      "  Output: [10 11 12  2 13 14 15 16  3 17]\n",
      "Sequence 3 in x\n",
      "  Input:  [18 19  3 20 21]\n",
      "  Output: [18 19  3 20 21  0  0  0  0  0]\n"
     ]
    }
   ],
   "source": [
    "def pad(x, length=None):\n",
    "    \"\"\"\n",
    "    Pad x\n",
    "    :param x: List of sequences.\n",
    "    :param length: Length to pad the sequence to.  If None, use length of longest sequence in x.\n",
    "    :return: Padded numpy array of sequences\n",
    "    \"\"\"\n",
    "    # TODO: Implement\n",
    "    return pad_sequences(x, maxlen=length, padding=\"post\")\n",
    "tests.test_pad(pad)\n",
    "\n",
    "# Pad Tokenized output\n",
    "test_pad = pad(text_tokenized)\n",
    "for sample_i, (token_sent, pad_sent) in enumerate(zip(text_tokenized, test_pad)):\n",
    "    print('Sequence {} in x'.format(sample_i + 1))\n",
    "    print('  Input:  {}'.format(np.array(token_sent)))\n",
    "    print('  Output: {}'.format(pad_sent))"
   ]
  },
  {
   "cell_type": "markdown",
   "metadata": {
    "deletable": true,
    "editable": true
   },
   "source": [
    "### Preprocess Pipeline\n",
    "Your focus for this project is to build neural network architecture, so we won't ask you to create a preprocess pipeline.  Instead, we've provided you with the implementation of the `preprocess` function."
   ]
  },
  {
   "cell_type": "code",
   "execution_count": 8,
   "metadata": {
    "collapsed": false,
    "deletable": true,
    "editable": true,
    "scrolled": true
   },
   "outputs": [
    {
     "name": "stdout",
     "output_type": "stream",
     "text": [
      "Data Preprocessed\n"
     ]
    }
   ],
   "source": [
    "def preprocess(x, y):\n",
    "    \"\"\"\n",
    "    Preprocess x and y\n",
    "    :param x: Feature List of sentences\n",
    "    :param y: Label List of sentences\n",
    "    :return: Tuple of (Preprocessed x, Preprocessed y, x tokenizer, y tokenizer)\n",
    "    \"\"\"\n",
    "    preprocess_x, x_tk = tokenize(x)\n",
    "    preprocess_y, y_tk = tokenize(y)\n",
    "\n",
    "    preprocess_x = pad(preprocess_x)\n",
    "    preprocess_y = pad(preprocess_y)\n",
    "\n",
    "    # Keras's sparse_categorical_crossentropy function requires the labels to be in 3 dimensions\n",
    "    preprocess_y = preprocess_y.reshape(*preprocess_y.shape, 1)\n",
    "\n",
    "    return preprocess_x, preprocess_y, x_tk, y_tk\n",
    "\n",
    "preproc_english_sentences, preproc_french_sentences, english_tokenizer, french_tokenizer =\\\n",
    "    preprocess(english_sentences, french_sentences)\n",
    "\n",
    "print('Data Preprocessed')"
   ]
  },
  {
   "cell_type": "code",
   "execution_count": 9,
   "metadata": {
    "collapsed": false
   },
   "outputs": [
    {
     "data": {
      "text/plain": [
       "((137861, 15), (137861, 22, 1))"
      ]
     },
     "execution_count": 9,
     "metadata": {},
     "output_type": "execute_result"
    }
   ],
   "source": [
    "preproc_english_sentences.shape, preproc_french_sentences.shape"
   ]
  },
  {
   "cell_type": "code",
   "execution_count": 10,
   "metadata": {
    "collapsed": false
   },
   "outputs": [
    {
     "data": {
      "text/plain": [
       "(199, 345)"
      ]
     },
     "execution_count": 10,
     "metadata": {},
     "output_type": "execute_result"
    }
   ],
   "source": [
    "len(english_tokenizer.word_index), len(french_tokenizer.word_index)"
   ]
  },
  {
   "cell_type": "code",
   "execution_count": 11,
   "metadata": {
    "collapsed": false
   },
   "outputs": [
    {
     "data": {
      "text/plain": [
       "2"
      ]
     },
     "execution_count": 11,
     "metadata": {},
     "output_type": "execute_result"
    }
   ],
   "source": [
    "french_tokenizer.word_index[\"<eos>\"]"
   ]
  },
  {
   "cell_type": "markdown",
   "metadata": {},
   "source": [
    "## Constants\n",
    "Note: this section require changes when the dataset is changed."
   ]
  },
  {
   "cell_type": "code",
   "execution_count": 12,
   "metadata": {
    "collapsed": true
   },
   "outputs": [],
   "source": [
    "ENG_VOCAB_SIZE = 200 #len(eng_vocab) + 1\n",
    "FRE_VOCAB_SIZE = 347 #len(french_vocab) + 2\n",
    "ENG_SEQ_LEN = 15\n",
    "FRE_SEQ_LEN = 22\n",
    "TGT_S_INDEX = 346 #len(french_vocab)\n",
    "TGT_E_INDEX = 2\n",
    "\n",
    "BATCH_SIZE = 128"
   ]
  },
  {
   "cell_type": "markdown",
   "metadata": {
    "deletable": true,
    "editable": true
   },
   "source": [
    "## Models\n",
    "In this section, you will experiment with various neural network architectures.\n",
    "You will begin by training four relatively simple architectures.\n",
    "- Model 1 is a simple RNN\n",
    "- Model 2 is a RNN with Embedding\n",
    "- Model 3 is a Bidirectional RNN\n",
    "- Model 4 is an optional Encoder-Decoder RNN\n",
    "\n",
    "After experimenting with the four simple architectures, you will construct a deeper architecture that is designed to outperform all four models.\n",
    "### Ids Back to Text\n",
    "The neural network will be translating the input to words ids, which isn't the final form we want.  We want the French translation.  The function `logits_to_text` will bridge the gab between the logits from the neural network to the French translation.  You'll be using this function to better understand the output of the neural network."
   ]
  },
  {
   "cell_type": "code",
   "execution_count": 13,
   "metadata": {
    "collapsed": false,
    "deletable": true,
    "editable": true
   },
   "outputs": [
    {
     "name": "stdout",
     "output_type": "stream",
     "text": [
      "`logits_to_text` function loaded.\n"
     ]
    }
   ],
   "source": [
    "def logits_to_text(logits, tokenizer):\n",
    "    \"\"\"\n",
    "    Turn logits from a neural network into text using the tokenizer\n",
    "    :param logits: Logits from a neural network\n",
    "    :param tokenizer: Keras Tokenizer fit on the labels\n",
    "    :return: String that represents the text of the logits\n",
    "    \"\"\"\n",
    "    index_to_words = {id: word for word, id in tokenizer.word_index.items()}\n",
    "    index_to_words[0] = '<PAD>'\n",
    "\n",
    "    return ' '.join([index_to_words[prediction] for prediction in np.argmax(logits, 1)])\n",
    "\n",
    "print('`logits_to_text` function loaded.')"
   ]
  },
  {
   "cell_type": "markdown",
   "metadata": {
    "deletable": true,
    "editable": true
   },
   "source": [
    "### Model 1: RNN (IMPLEMENTATION)\n",
    "![RNN](images/rnn.png)\n",
    "A basic RNN model is a good baseline for sequence data.  In this model, you'll build a RNN that translates English to French."
   ]
  },
  {
   "cell_type": "code",
   "execution_count": 14,
   "metadata": {
    "collapsed": true
   },
   "outputs": [],
   "source": [
    "from keras.layers import GRU, LSTM, Input, Dense, TimeDistributed\n",
    "from keras.models import Model\n",
    "from keras.layers import Activation\n",
    "from keras.optimizers import Adam\n",
    "from keras.losses import sparse_categorical_crossentropy"
   ]
  },
  {
   "cell_type": "code",
   "execution_count": 15,
   "metadata": {
    "collapsed": false
   },
   "outputs": [],
   "source": [
    "def simple_model(input_shape, output_sequence_length, english_vocab_size, french_vocab_size):\n",
    "    \"\"\"\n",
    "    Build and train a basic RNN on x and y\n",
    "    :param input_shape: Tuple of input shape\n",
    "    :param output_sequence_length: Length of output sequence\n",
    "    :param english_vocab_size: Number of unique English words in the dataset\n",
    "    :param french_vocab_size: Number of unique French words in the dataset\n",
    "    :return: Keras model built, but not trained\n",
    "    \"\"\"\n",
    "    # TODO: Build the layers\n",
    "    m_in = Input(shape=input_shape[1:])\n",
    "    x = GRU(128, dropout=0.5, recurrent_dropout=0.5, return_sequences=True)(m_in)\n",
    "    m_out = TimeDistributed(Dense(french_vocab_size, activation=\"softmax\"))(x)\n",
    "    model = Model(m_in, m_out)\n",
    "    \n",
    "    learning_rate = 0.01\n",
    "    model.compile(loss=sparse_categorical_crossentropy,\n",
    "                  optimizer=Adam(learning_rate),\n",
    "                  metrics=['accuracy'])\n",
    "    return model\n",
    "\n",
    "tests.test_simple_model(simple_model)"
   ]
  },
  {
   "cell_type": "code",
   "execution_count": 17,
   "metadata": {
    "collapsed": false
   },
   "outputs": [
    {
     "name": "stdout",
     "output_type": "stream",
     "text": [
      "Train on 110288 samples, validate on 27573 samples\n",
      "Epoch 1/2\n",
      "110288/110288 [==============================] - 116s - loss: 1.8886 - acc: 0.5344 - val_loss: 2.0964 - val_acc: 0.5105\n",
      "Epoch 2/2\n",
      "110288/110288 [==============================] - 120s - loss: 1.6728 - acc: 0.5560 - val_loss: 2.0331 - val_acc: 0.5238\n",
      "new fruit est la agréable en en mais il est est est en <eos> <PAD> <PAD> <PAD> <PAD> <PAD> <PAD> <PAD> <PAD>\n"
     ]
    }
   ],
   "source": [
    "# Reshaping the input to work with a basic RNN\n",
    "tmp_x = pad(preproc_english_sentences, preproc_french_sentences.shape[1])\n",
    "tmp_x = tmp_x.reshape((-1, preproc_french_sentences.shape[-2], 1))\n",
    "\n",
    "# Train the neural network\n",
    "simple_rnn_model = simple_model(\n",
    "    tmp_x.shape,\n",
    "    preproc_french_sentences.shape[1],\n",
    "    ENG_VOCAB_SIZE,\n",
    "    FRE_VOCAB_SIZE\n",
    ")\n",
    "simple_rnn_model.fit(tmp_x, preproc_french_sentences, batch_size=128, epochs=2, validation_split=0.2)\n",
    "\n",
    "# Print prediction(s)\n",
    "print(logits_to_text(simple_rnn_model.predict(tmp_x[:1])[0], french_tokenizer))"
   ]
  },
  {
   "cell_type": "markdown",
   "metadata": {
    "deletable": true,
    "editable": true
   },
   "source": [
    "### Model 2: Embedding (IMPLEMENTATION)\n",
    "![RNN](images/embedding.png)\n",
    "You've turned the words into ids, but there's a better representation of a word.  This is called word embeddings.  An embedding is a vector representation of the word that is close to similar words in n-dimensional space, where the n represents the size of the embedding vectors.\n",
    "\n",
    "In this model, you'll create a RNN model using embedding."
   ]
  },
  {
   "cell_type": "code",
   "execution_count": 18,
   "metadata": {
    "collapsed": false
   },
   "outputs": [],
   "source": [
    "from keras.layers.embeddings import Embedding\n",
    "\n",
    "\n",
    "def embed_model(input_shape, output_sequence_length, english_vocab_size, french_vocab_size):\n",
    "    \"\"\"\n",
    "    Build and train a RNN model using word embedding on x and y\n",
    "    :param input_shape: Tuple of input shape\n",
    "    :param output_sequence_length: Length of output sequence\n",
    "    :param english_vocab_size: Number of unique English words in the dataset\n",
    "    :param french_vocab_size: Number of unique French words in the dataset\n",
    "    :return: Keras model built, but not trained\n",
    "    \"\"\"\n",
    "    # TODO: Implement\n",
    "    m_in = Input(shape=input_shape[1:])\n",
    "    x = Embedding(english_vocab_size, 64)(m_in)\n",
    "    x = GRU(128, dropout=0.5, recurrent_dropout=0.5, return_sequences=True)(x)\n",
    "    m_out = TimeDistributed(Dense(french_vocab_size, activation=\"softmax\"))(x)\n",
    "    model = Model(m_in, m_out)\n",
    "    \n",
    "    learning_rate = 0.01\n",
    "    model.compile(loss=sparse_categorical_crossentropy,\n",
    "                  optimizer=Adam(learning_rate),\n",
    "                  metrics=['accuracy'])\n",
    "    return model\n",
    "\n",
    "tests.test_embed_model(embed_model)"
   ]
  },
  {
   "cell_type": "code",
   "execution_count": 19,
   "metadata": {
    "collapsed": false,
    "deletable": true,
    "editable": true
   },
   "outputs": [
    {
     "name": "stdout",
     "output_type": "stream",
     "text": [
      "Train on 110288 samples, validate on 27573 samples\n",
      "Epoch 1/2\n",
      "110288/110288 [==============================] - 140s - loss: 0.8773 - acc: 0.7473 - val_loss: 0.4869 - val_acc: 0.8408\n",
      "Epoch 2/2\n",
      "110288/110288 [==============================] - 134s - loss: 0.5995 - acc: 0.8051 - val_loss: 0.4740 - val_acc: 0.8458\n",
      "new jersey est parfois calme en l'automne et il est neigeux en en <eos> <PAD> <PAD> <PAD> <PAD> <PAD> <PAD> <PAD> <PAD>\n"
     ]
    }
   ],
   "source": [
    "# Reshaping the input to work with a basic RNN\n",
    "tmp_x = pad(preproc_english_sentences, preproc_french_sentences.shape[1])\n",
    "tmp_x = tmp_x.reshape((-1, preproc_french_sentences.shape[-2]))\n",
    "\n",
    "# Train the neural network\n",
    "rnn_model = embed_model(\n",
    "    tmp_x.shape,\n",
    "    preproc_french_sentences.shape[1],\n",
    "    ENG_VOCAB_SIZE,\n",
    "    FRE_VOCAB_SIZE)\n",
    "rnn_model.fit(tmp_x, preproc_french_sentences, batch_size=128, epochs=2, validation_split=0.2)\n",
    "\n",
    "# Print prediction(s)\n",
    "print(logits_to_text(rnn_model.predict(tmp_x[:1])[0], french_tokenizer))"
   ]
  },
  {
   "cell_type": "markdown",
   "metadata": {
    "deletable": true,
    "editable": true
   },
   "source": [
    "### Model 3: Bidirectional RNNs (IMPLEMENTATION)\n",
    "![RNN](images/bidirectional.png)\n",
    "One restriction of a RNN is that it can't see the future input, only the past.  This is where bidirectional recurrent neural networks come in.  They are able to see the future data."
   ]
  },
  {
   "cell_type": "code",
   "execution_count": 20,
   "metadata": {
    "collapsed": false
   },
   "outputs": [],
   "source": [
    "from keras.layers import Bidirectional, Dropout\n",
    "\n",
    "\n",
    "def bd_model(input_shape, output_sequence_length, english_vocab_size, french_vocab_size):\n",
    "    \"\"\"\n",
    "    Build and train a bidirectional RNN model on x and y\n",
    "    :param input_shape: Tuple of input shape\n",
    "    :param output_sequence_length: Length of output sequence\n",
    "    :param english_vocab_size: Number of unique English words in the dataset\n",
    "    :param french_vocab_size: Number of unique French words in the dataset\n",
    "    :return: Keras model built, but not trained\n",
    "    \"\"\"\n",
    "    # TODO: Implement\n",
    "    m_in = Input(shape=input_shape[1:])\n",
    "    x = Bidirectional(GRU(128, return_sequences=True))(m_in)\n",
    "    x = Dropout(0.5)(x)\n",
    "    m_out = TimeDistributed(Dense(french_vocab_size, activation=\"softmax\"))(x)\n",
    "    model = Model(m_in, m_out)\n",
    "    \n",
    "    learning_rate = 0.01\n",
    "    model.compile(loss=sparse_categorical_crossentropy,\n",
    "                  optimizer=Adam(learning_rate),\n",
    "                  metrics=['accuracy'])\n",
    "    return model\n",
    "\n",
    "tests.test_bd_model(bd_model)"
   ]
  },
  {
   "cell_type": "code",
   "execution_count": 21,
   "metadata": {
    "collapsed": false,
    "deletable": true,
    "editable": true
   },
   "outputs": [
    {
     "name": "stdout",
     "output_type": "stream",
     "text": [
      "Train on 110288 samples, validate on 27573 samples\n",
      "Epoch 1/2\n",
      "110288/110288 [==============================] - 214s - loss: 1.3029 - acc: 0.6270 - val_loss: 1.0249 - val_acc: 0.6751\n",
      "Epoch 2/2\n",
      "110288/110288 [==============================] - 194s - loss: 1.1061 - acc: 0.6594 - val_loss: 0.9418 - val_acc: 0.6923\n",
      "new jersey est parfois calme en l' et il il est est en en <PAD> <PAD> <PAD> <PAD> <PAD> <PAD> <PAD> <PAD>\n"
     ]
    }
   ],
   "source": [
    "# TODO: Train and Print prediction(s)\n",
    "# Reshaping the input to work with a basic RNN\n",
    "tmp_x = pad(preproc_english_sentences, preproc_french_sentences.shape[1])\n",
    "tmp_x = tmp_x.reshape((-1, preproc_french_sentences.shape[-2], 1))\n",
    "\n",
    "# Train the neural network\n",
    "rnn_model = bd_model(\n",
    "    tmp_x.shape,\n",
    "    preproc_french_sentences.shape[1],\n",
    "    ENG_VOCAB_SIZE,\n",
    "    FRE_VOCAB_SIZE)\n",
    "rnn_model.fit(tmp_x, preproc_french_sentences, batch_size=128, epochs=2, validation_split=0.2)\n",
    "\n",
    "# Print prediction(s)\n",
    "print(logits_to_text(rnn_model.predict(tmp_x[:1])[0], french_tokenizer))"
   ]
  },
  {
   "cell_type": "markdown",
   "metadata": {
    "deletable": true,
    "editable": true
   },
   "source": [
    "### Model 4: Embedding-Bidirectional-EncoderDecoder (IMPLEMENTATION)\n",
    "![RNN](images/bidirectional.png)\n",
    "Use everything you learned from the previous models to create a model that incorporates embedding and a bidirectional rnn into one model."
   ]
  },
  {
   "cell_type": "code",
   "execution_count": 22,
   "metadata": {
    "collapsed": false,
    "deletable": true,
    "editable": true
   },
   "outputs": [
    {
     "name": "stdout",
     "output_type": "stream",
     "text": [
      "Model 4 Loaded\n"
     ]
    }
   ],
   "source": [
    "from keras.models import Sequential\n",
    "from keras.layers import RepeatVector\n",
    "\n",
    "def model_embed_bd(input_shape, output_sequence_length, english_vocab_size, french_vocab_size):\n",
    "    \"\"\"\n",
    "    Build and train a model that incorporates embedding, encoder-decoder, and bidirectional RNN on x and y\n",
    "    :param input_shape: Tuple of input shape\n",
    "    :param output_sequence_length: Length of output sequence\n",
    "    :param english_vocab_size: Number of unique English words in the dataset\n",
    "    :param french_vocab_size: Number of unique French words in the dataset\n",
    "    :return: Keras model built, but not trained\n",
    "    \"\"\"\n",
    "    # TODO: Implement\n",
    "    model = Sequential()\n",
    "    \n",
    "    '''Encoder'''\n",
    "    model.add(Embedding(english_vocab_size, 64, input_length=input_shape[1]))\n",
    "    model.add(Bidirectional(GRU(128, return_sequences=False)))\n",
    "    model.add(Dropout(0.5))\n",
    "    \n",
    "    '''Decoder'''\n",
    "    model.add(RepeatVector(output_sequence_length))\n",
    "    model.add(Bidirectional(GRU(128, return_sequences=True)))\n",
    "    model.add(TimeDistributed(Dense(french_vocab_size, activation=\"softmax\")))\n",
    "    \n",
    "    learning_rate = 0.001\n",
    "    model.compile(loss=sparse_categorical_crossentropy,\n",
    "                  optimizer=Adam(learning_rate),\n",
    "                  metrics=['accuracy'])\n",
    "    \n",
    "    \n",
    "    return model\n",
    "\n",
    "tests.test_model_final(model_embed_bd)\n",
    "\n",
    "\n",
    "print('Model 4 Loaded')"
   ]
  },
  {
   "cell_type": "code",
   "execution_count": 23,
   "metadata": {
    "collapsed": false,
    "scrolled": false
   },
   "outputs": [
    {
     "name": "stdout",
     "output_type": "stream",
     "text": [
      "Train on 110288 samples, validate on 27573 samples\n",
      "Epoch 1/5\n",
      "110288/110288 [==============================] - 401s - loss: 1.1514 - acc: 0.6862 - val_loss: 0.6242 - val_acc: 0.8127\n",
      "Epoch 2/5\n",
      "110288/110288 [==============================] - 392s - loss: 1.0303 - acc: 0.7191 - val_loss: 1.7124 - val_acc: 0.5619\n",
      "Epoch 3/5\n",
      "110288/110288 [==============================] - 387s - loss: 1.7538 - acc: 0.5544 - val_loss: 1.5045 - val_acc: 0.6025\n",
      "Epoch 4/5\n",
      "110288/110288 [==============================] - 392s - loss: 1.8405 - acc: 0.5400 - val_loss: 1.5736 - val_acc: 0.5838\n",
      "Epoch 5/5\n",
      "110288/110288 [==============================] - 521s - loss: 1.7451 - acc: 0.5550 - val_loss: 1.5469 - val_acc: 0.5897\n",
      "new jersey est parfois au en mois mais il est est est en <PAD> <PAD> <PAD> <PAD> <PAD> <PAD> <PAD> <PAD> <PAD>\n"
     ]
    }
   ],
   "source": [
    "# TODO: Train and Print prediction(s)\n",
    "# Reshaping the input to work with a basic RNN\n",
    "tmp_x = pad(preproc_english_sentences, preproc_french_sentences.shape[1])\n",
    "tmp_x = tmp_x.reshape((-1, preproc_french_sentences.shape[-2]))\n",
    "\n",
    "# Train the neural network\n",
    "embed_bd_model = model_embed_bd(\n",
    "    tmp_x.shape,\n",
    "    preproc_french_sentences.shape[1],\n",
    "    ENG_VOCAB_SIZE,\n",
    "    FRE_VOCAB_SIZE)\n",
    "embed_bd_model.fit(tmp_x, preproc_french_sentences, batch_size=128, epochs=5, validation_split=0.2)\n",
    "\n",
    "# Print prediction(s)\n",
    "print(logits_to_text(embed_bd_model.predict(tmp_x[:1])[0], french_tokenizer))"
   ]
  },
  {
   "cell_type": "markdown",
   "metadata": {},
   "source": [
    "### Evaluate the embedding bidirectional model"
   ]
  },
  {
   "cell_type": "code",
   "execution_count": 58,
   "metadata": {
    "collapsed": false
   },
   "outputs": [
    {
     "name": "stdout",
     "output_type": "stream",
     "text": [
      "Sample 1:\n",
      "il a vu vieux camion jaune <EOS> <EOS> <PAD> <PAD> <PAD> <PAD> <PAD> <PAD> <PAD> <PAD> <PAD> <PAD> <PAD> <PAD> <PAD> <PAD>\n",
      "Il a vu un vieux camion jaune\n",
      "Sample 2:\n",
      "new jersey est parfois au en mois mais il est est est en <PAD> <PAD> <PAD> <PAD> <PAD> <PAD> <PAD> <PAD> <PAD>\n",
      "new jersey est parfois calme pendant l' automne et il est neigeux en avril <EOS> <PAD> <PAD> <PAD> <PAD> <PAD> <PAD> <PAD>\n"
     ]
    }
   ],
   "source": [
    "def final_predictions(x, y, x_tk, y_tk):\n",
    "    \"\"\"\n",
    "    Gets predictions using the final model\n",
    "    :param x: Preprocessed English data\n",
    "    :param y: Preprocessed French data\n",
    "    :param x_tk: English tokenizer\n",
    "    :param y_tk: French tokenizer\n",
    "    \"\"\"\n",
    "    # TODO: Train neural network using model_final\n",
    "    model = embed_bd_model\n",
    "\n",
    "    \n",
    "    ## DON'T EDIT ANYTHING BELOW THIS LINE\n",
    "    y_id_to_word = {value: key for key, value in y_tk.word_index.items()}\n",
    "    y_id_to_word[0] = '<PAD>'\n",
    "    y_id_to_word[TGT_S_INDEX] = \"<S>\"\n",
    "    y_id_to_word[TGT_E_INDEX] = \"<EOS>\"\n",
    "\n",
    "    sentence = 'he saw a old yellow truck'\n",
    "    sentence = [x_tk.word_index[word] for word in sentence.split()]\n",
    "    sentence = pad_sequences([sentence], maxlen=x.shape[-1], padding='post')\n",
    "    sentences = np.array([sentence[0],x[0]])\n",
    "    sentences = pad_sequences(sentences, maxlen=y.shape[-2], padding=\"post\")\n",
    "    predictions = model.predict(sentences, len(sentences))\n",
    "\n",
    "    print('Sample 1:')\n",
    "    print(' '.join([y_id_to_word[np.argmax(x)] for x in predictions[0]]))\n",
    "    print('Il a vu un vieux camion jaune')\n",
    "    print('Sample 2:')\n",
    "    print(' '.join([y_id_to_word[np.argmax(x)] for x in predictions[1]]))\n",
    "    print(' '.join([y_id_to_word[x[0]] for x in y[0]]))\n",
    "    \n",
    "#     print('Sample 1:')\n",
    "#     print(' '.join([y_id_to_word[x] for x in predictions[0]]))\n",
    "#     print('Il a vu un vieux camion jaune')\n",
    "#     print('Sample 2:')\n",
    "#     print(' '.join([y_id_to_word[x] for x in predictions[1]]))\n",
    "#     print(' '.join([y_id_to_word[x] for x in y[0]]))\n",
    "\n",
    "\n",
    "final_predictions(preproc_english_sentences, preproc_french_sentences, english_tokenizer, french_tokenizer)"
   ]
  },
  {
   "cell_type": "markdown",
   "metadata": {
    "deletable": true,
    "editable": true
   },
   "source": [
    "### Model 5: Encoder-Decoder With Attention (IMPLEMENTATION)\n",
    "Time to look at encoder-decoder models.  This model is made up of an encoder and decoder. The encoder creates a matrix representation of the sentence.  The decoder takes this matrix as input and predicts the translation as output.\n",
    "\n",
    "In order to performance well for long sentences, attention mechanism is used.\n",
    "\n",
    "Create an encoder-decoder model in the cell below.\n",
    "\n",
    "![seq2seq](images/seq2seq.png)"
   ]
  },
  {
   "cell_type": "code",
   "execution_count": 34,
   "metadata": {
    "collapsed": true
   },
   "outputs": [],
   "source": [
    "import numpy as np\n",
    "import tensorflow as tf\n",
    "from tensorflow.python.layers.core import Dense"
   ]
  },
  {
   "cell_type": "code",
   "execution_count": 35,
   "metadata": {
    "collapsed": false
   },
   "outputs": [],
   "source": [
    "X_vocab_size = ENG_VOCAB_SIZE\n",
    "Y_vocab_size = FRE_VOCAB_SIZE\n",
    "\n",
    "g_nmt = tf.Graph()\n",
    "\n",
    "with g_nmt.as_default():\n",
    "    '''variables'''\n",
    "    X = tf.placeholder(tf.int32, [None, None])\n",
    "    Y = tf.placeholder(tf.int32, [None, None])\n",
    "    D = tf.placeholder(tf.int32, [None, None])\n",
    "    keep_prob = tf.placeholder(tf.float32)\n",
    "    #X_seq_len = tf.placeholder(tf.int32, [None])\n",
    "    #Y_seq_len = tf.placeholder(tf.int32, [None])\n",
    "    X_seq_len = tf.constant([ENG_SEQ_LEN for i in range(BATCH_SIZE)])\n",
    "    Y_seq_len = tf.constant([FRE_SEQ_LEN for i in range(BATCH_SIZE)])\n",
    "\n",
    "    '''encoder''' \n",
    "    encoder_cell = tf.nn.rnn_cell.BasicLSTMCell(128)\n",
    "    encoder_cell = tf.nn.rnn_cell.DropoutWrapper(encoder_cell, keep_prob, keep_prob, keep_prob)\n",
    "    encoder_out, encoder_state = tf.nn.dynamic_rnn(\n",
    "        cell = encoder_cell, \n",
    "        inputs = tf.contrib.layers.embed_sequence(X, X_vocab_size, 64),\n",
    "        sequence_length = X_seq_len,\n",
    "        dtype = tf.float32)\n",
    "    \n",
    "    '''decoder cell'''\n",
    "    decoder_cell = tf.nn.rnn_cell.BasicLSTMCell(128)\n",
    "    decoder_cell = tf.nn.rnn_cell.DropoutWrapper(decoder_cell, keep_prob, keep_prob, keep_prob)\n",
    "\n",
    "    '''attention'''\n",
    "    attention_mechanism = tf.contrib.seq2seq.LuongAttention(\n",
    "        num_units = 128, \n",
    "        memory = encoder_out,\n",
    "        memory_sequence_length = X_seq_len)\n",
    "\n",
    "    decoder_cell = tf.contrib.seq2seq.AttentionWrapper(\n",
    "        cell = decoder_cell,\n",
    "        attention_mechanism = attention_mechanism,\n",
    "        attention_layer_size = 128)\n",
    "\n",
    "    '''decoder'''\n",
    "    projection_layer = Dense(Y_vocab_size)\n",
    "\n",
    "    embedding_decoder = tf.get_variable(\"embedding_decoder\", [Y_vocab_size, 64])\n",
    "    training_helper = tf.contrib.seq2seq.TrainingHelper(\n",
    "        inputs = tf.nn.embedding_lookup(\n",
    "            embedding_decoder, D),\n",
    "        sequence_length = Y_seq_len,\n",
    "        time_major = False)\n",
    "    training_decoder = tf.contrib.seq2seq.BasicDecoder(\n",
    "        cell = decoder_cell,\n",
    "        helper = training_helper, \n",
    "        initial_state = decoder_cell.zero_state(BATCH_SIZE, tf.float32).clone(cell_state=encoder_state),\n",
    "        output_layer = projection_layer)\n",
    "    training_decoder_output, _, _ = tf.contrib.seq2seq.dynamic_decode(\n",
    "        decoder = training_decoder)\n",
    "    training_logits = training_decoder_output.rnn_output\n",
    "\n",
    "    '''loss'''\n",
    "    crossent = tf.nn.sparse_softmax_cross_entropy_with_logits(\n",
    "            labels=Y, logits=training_logits)\n",
    "    train_loss = (tf.reduce_sum(crossent) /\n",
    "            BATCH_SIZE)\n",
    "    '''backward'''\n",
    "    params = tf.trainable_variables()\n",
    "    gradients = tf.gradients(train_loss, params)\n",
    "    clipped_gradients, _ = tf.clip_by_global_norm(gradients, 5.0)\n",
    "    train_op = tf.train.AdamOptimizer().apply_gradients(zip(clipped_gradients, params))\n",
    "\n",
    "    '''infer'''\n",
    "    tgt_sos_id = TGT_S_INDEX\n",
    "    tgt_eos_id = TGT_E_INDEX\n",
    "\n",
    "    infer_helper = tf.contrib.seq2seq.GreedyEmbeddingHelper(\n",
    "        embedding_decoder,\n",
    "        tf.fill([BATCH_SIZE], tgt_sos_id), tgt_eos_id) # try int, and place holder\n",
    "\n",
    "    # Decoder\n",
    "    decoder_infer = tf.contrib.seq2seq.BasicDecoder(\n",
    "        decoder_cell, infer_helper,\n",
    "        initial_state = decoder_cell.zero_state(BATCH_SIZE, tf.float32).clone(cell_state=encoder_state),\n",
    "        output_layer=projection_layer)\n",
    "\n",
    "    # Dynamic decoding\n",
    "    outputs_infer = tf.contrib.seq2seq.dynamic_decode(\n",
    "        decoder_infer)\n",
    "\n",
    "    \n",
    "    translations = outputs_infer[0].sample_id"
   ]
  },
  {
   "cell_type": "code",
   "execution_count": 36,
   "metadata": {
    "collapsed": false
   },
   "outputs": [
    {
     "name": "stderr",
     "output_type": "stream",
     "text": [
      "/Users/jhsiao/anaconda/envs/py3/lib/python3.5/site-packages/sklearn/cross_validation.py:44: DeprecationWarning: This module was deprecated in version 0.18 in favor of the model_selection module into which all the refactored classes and functions are moved. Also note that the interface of the new CV iterators are different from that of this module. This module will be removed in 0.20.\n",
      "  \"This module will be removed in 0.20.\", DeprecationWarning)\n"
     ]
    }
   ],
   "source": [
    "from sklearn.cross_validation import train_test_split\n",
    "\n",
    "X_all = preproc_english_sentences\n",
    "Y_all = preproc_french_sentences.reshape(preproc_french_sentences.shape[:2])\n",
    "D_all = np.hstack([np.ones([Y_all.shape[0], 1])*TGT_S_INDEX, Y_all[:, :-1]]) # decoder input\n",
    "\n",
    "X_train, X_test, Y_train, Y_test, D_train, D_test = train_test_split(X_all, Y_all, D_all)\n"
   ]
  },
  {
   "cell_type": "code",
   "execution_count": 40,
   "metadata": {
    "collapsed": false,
    "scrolled": true
   },
   "outputs": [
    {
     "name": "stdout",
     "output_type": "stream",
     "text": [
      "\n",
      "### EPOCH 0\n",
      "\n",
      "Epoch: 0, Process: 0/103395, Loss: 128.919464\n",
      "Time use: 0.45\n",
      "Epoch: 0, Process: 32000/103395, Loss: 27.209320\n",
      "Time use: 53.60\n",
      "Epoch: 0, Process: 64000/103395, Loss: 20.111822\n",
      "Time use: 56.93\n",
      "Epoch: 0, Process: 96000/103395, Loss: 16.422218\n",
      "Time use: 56.63\n",
      "val loss: [13.979229]\n",
      "model trained and saved\n",
      "\n",
      "### EPOCH 1\n",
      "\n",
      "Epoch: 1, Process: 0/103395, Loss: 15.448201\n",
      "Time use: 14.67\n",
      "Epoch: 1, Process: 32000/103395, Loss: 12.732707\n",
      "Time use: 60.25\n",
      "Epoch: 1, Process: 64000/103395, Loss: 8.943460\n",
      "Time use: 64.34\n",
      "Epoch: 1, Process: 96000/103395, Loss: 8.062677\n",
      "Time use: 61.92\n",
      "val loss: [5.942421]\n",
      "model trained and saved\n",
      "\n",
      "### EPOCH 2\n",
      "\n",
      "Epoch: 2, Process: 0/103395, Loss: 7.552980\n",
      "Time use: 16.29\n",
      "Epoch: 2, Process: 32000/103395, Loss: 6.401490\n",
      "Time use: 56.56\n",
      "Epoch: 2, Process: 64000/103395, Loss: 5.238935\n",
      "Time use: 56.34\n",
      "Epoch: 2, Process: 96000/103395, Loss: 5.058176\n",
      "Time use: 61.36\n",
      "val loss: [3.8008645]\n",
      "model trained and saved\n",
      "\n",
      "### EPOCH 3\n",
      "\n",
      "Epoch: 3, Process: 0/103395, Loss: 4.953457\n",
      "Time use: 16.52\n",
      "Epoch: 3, Process: 32000/103395, Loss: 4.263115\n",
      "Time use: 62.49\n",
      "Epoch: 3, Process: 64000/103395, Loss: 3.910614\n",
      "Time use: 59.59\n",
      "Epoch: 3, Process: 96000/103395, Loss: 3.906106\n",
      "Time use: 56.92\n",
      "val loss: [2.9630108]\n",
      "model trained and saved\n",
      "\n",
      "### EPOCH 4\n",
      "\n",
      "Epoch: 4, Process: 0/103395, Loss: 4.093551\n",
      "Time use: 16.95\n",
      "Epoch: 4, Process: 32000/103395, Loss: 3.891516\n",
      "Time use: 58.02\n",
      "Epoch: 4, Process: 64000/103395, Loss: 2.755949\n",
      "Time use: 54.88\n",
      "Epoch: 4, Process: 96000/103395, Loss: 3.081501\n",
      "Time use: 50.71\n",
      "val loss: [2.4461339]\n",
      "model trained and saved\n"
     ]
    }
   ],
   "source": [
    "'''training'''\n",
    "import time\n",
    "\n",
    "num_of_dp = X_train.shape[0]\n",
    "\n",
    "DISPLAY_STEP = 250\n",
    "\n",
    "EPOCH = 5\n",
    "\n",
    "iters_each_epoch = X_train.shape[0] // BATCH_SIZE\n",
    "\n",
    "\n",
    "with tf.Session(graph=g_nmt) as sess:\n",
    "    sess.run(tf.global_variables_initializer())\n",
    "    t0 = time.time()\n",
    "    \n",
    "    for i in range(EPOCH):\n",
    "        print(\"\\n### EPOCH %d\\n\"%i)\n",
    "        for j in range(iters_each_epoch):\n",
    "            start_id = BATCH_SIZE * j\n",
    "            end_id = BATCH_SIZE * (j+1)\n",
    "            _, loss = sess.run(\n",
    "                [train_op, train_loss],\n",
    "                {\n",
    "                    X:X_train[start_id:end_id],\n",
    "                    Y:Y_train[start_id:end_id],\n",
    "                    D:D_train[start_id:end_id],\n",
    "                    keep_prob:0.5\n",
    "                }\n",
    "            )\n",
    "            if j%DISPLAY_STEP == 0:\n",
    "                print(\"Epoch: %d, Process: %d/%d, Loss: %f\"%(i, start_id, num_of_dp, loss))\n",
    "                t1 = time.time()\n",
    "                print(\"Time use: %.2f\"%(t1-t0))\n",
    "                t0 = t1\n",
    "        \n",
    "        # eval\n",
    "        val_loss = sess.run(\n",
    "                [train_loss],\n",
    "                {\n",
    "                    X:X_test[:BATCH_SIZE],\n",
    "                    Y:Y_test[:BATCH_SIZE],\n",
    "                    D:D_test[:BATCH_SIZE],\n",
    "                    keep_prob:1.0\n",
    "                }\n",
    "            )\n",
    "        print(\"val loss:\", val_loss)\n",
    "        \n",
    "        # save\n",
    "        saver = tf.train.Saver()\n",
    "        saver.save(sess, \"./nmt_sess\")\n",
    "        print(\"model trained and saved\")\n"
   ]
  },
  {
   "cell_type": "markdown",
   "metadata": {},
   "source": [
    "### Model 6: Attention Is All You Need (IMPLEMENTATION)\n",
    "The transformer, outperformed the state-of-the-art one in machine translation with only attention, no CNNs, no RNNs. How cool it is! \n",
    "![Attention](images/transformer.png)\n",
    "\n",
    "The implementation used for this model is here: https://github.com/Kyubyong/transformer"
   ]
  },
  {
   "cell_type": "code",
   "execution_count": 41,
   "metadata": {
    "collapsed": false
   },
   "outputs": [],
   "source": [
    "import sys\n",
    "sys.path.append(\"./transformer\")\n",
    "from transformer.train import Graph"
   ]
  },
  {
   "cell_type": "code",
   "execution_count": 42,
   "metadata": {
    "collapsed": true
   },
   "outputs": [],
   "source": [
    "from transformer.hyperparams import Hyperparams as hp"
   ]
  },
  {
   "cell_type": "code",
   "execution_count": 43,
   "metadata": {
    "collapsed": false
   },
   "outputs": [],
   "source": [
    "# load the graph of transformer\n",
    "g = Graph(ENG_VOCAB_SIZE, FRE_VOCAB_SIZE)"
   ]
  },
  {
   "cell_type": "code",
   "execution_count": 44,
   "metadata": {
    "collapsed": true
   },
   "outputs": [],
   "source": [
    "X_all = np.hstack([X_all, np.zeros([X_all.shape[0], FRE_SEQ_LEN-ENG_SEQ_LEN])]) #pad it to len=22"
   ]
  },
  {
   "cell_type": "code",
   "execution_count": 45,
   "metadata": {
    "collapsed": false
   },
   "outputs": [],
   "source": [
    "X_train, X_test, Y_train, Y_test, D_train, D_test = train_test_split(X_all, Y_all, D_all)"
   ]
  },
  {
   "cell_type": "code",
   "execution_count": 47,
   "metadata": {
    "collapsed": false
   },
   "outputs": [
    {
     "name": "stdout",
     "output_type": "stream",
     "text": [
      "\n",
      "### EPOCH 0\n",
      "\n",
      "Epoch: 0, Process: 0/103395, Loss: 6.118505, Acc: 0.000590\n",
      "Time use: 1.40\n",
      "Epoch: 0, Process: 25600/103395, Loss: 1.909913, Acc: 0.606308\n",
      "Time use: 185.65\n",
      "Epoch: 0, Process: 51200/103395, Loss: 1.776961, Acc: 0.658551\n",
      "Time use: 192.03\n",
      "Epoch: 0, Process: 76800/103395, Loss: 1.771750, Acc: 0.657760\n",
      "Time use: 186.44\n",
      "Epoch: 0, Process: 102400/103395, Loss: 1.727365, Acc: 0.676968\n",
      "Time use: 175.25\n",
      "val loss: [1.7240031]\n",
      "model trained and saved\n",
      "\n",
      "### EPOCH 1\n",
      "\n",
      "Epoch: 1, Process: 0/103395, Loss: 1.723728, Acc: 0.688496\n",
      "Time use: 18.04\n",
      "Epoch: 1, Process: 25600/103395, Loss: 1.703067, Acc: 0.683995\n",
      "Time use: 190.54\n",
      "Epoch: 1, Process: 51200/103395, Loss: 1.690135, Acc: 0.698931\n",
      "Time use: 184.44\n",
      "Epoch: 1, Process: 76800/103395, Loss: 1.668147, Acc: 0.700398\n",
      "Time use: 184.58\n",
      "Epoch: 1, Process: 102400/103395, Loss: 1.625366, Acc: 0.708455\n",
      "Time use: 181.23\n",
      "val loss: [1.6264958]\n",
      "model trained and saved\n",
      "\n",
      "### EPOCH 2\n",
      "\n",
      "Epoch: 2, Process: 0/103395, Loss: 1.632003, Acc: 0.717404\n",
      "Time use: 17.86\n",
      "Epoch: 2, Process: 25600/103395, Loss: 1.636778, Acc: 0.705607\n",
      "Time use: 179.10\n",
      "Epoch: 2, Process: 51200/103395, Loss: 1.612039, Acc: 0.725653\n",
      "Time use: 174.65\n",
      "Epoch: 2, Process: 76800/103395, Loss: 1.622713, Acc: 0.717453\n",
      "Time use: 165.57\n",
      "Epoch: 2, Process: 102400/103395, Loss: 1.603788, Acc: 0.724198\n",
      "Time use: 168.34\n",
      "val loss: [1.6019183]\n",
      "model trained and saved\n",
      "\n",
      "### EPOCH 3\n",
      "\n",
      "Epoch: 3, Process: 0/103395, Loss: 1.603529, Acc: 0.726844\n",
      "Time use: 17.70\n",
      "Epoch: 3, Process: 25600/103395, Loss: 1.604302, Acc: 0.721963\n",
      "Time use: 168.70\n",
      "Epoch: 3, Process: 51200/103395, Loss: 1.572087, Acc: 0.739905\n",
      "Time use: 172.63\n",
      "Epoch: 3, Process: 76800/103395, Loss: 1.566705, Acc: 0.738488\n",
      "Time use: 193.96\n",
      "Epoch: 3, Process: 102400/103395, Loss: 1.536805, Acc: 0.745773\n",
      "Time use: 206.77\n",
      "val loss: [1.5349994]\n",
      "model trained and saved\n",
      "\n",
      "### EPOCH 4\n",
      "\n",
      "Epoch: 4, Process: 0/103395, Loss: 1.537093, Acc: 0.751032\n",
      "Time use: 22.65\n",
      "Epoch: 4, Process: 25600/103395, Loss: 1.545556, Acc: 0.734813\n",
      "Time use: 180.04\n",
      "Epoch: 4, Process: 51200/103395, Loss: 1.516677, Acc: 0.757126\n",
      "Time use: 168.11\n",
      "Epoch: 4, Process: 76800/103395, Loss: 1.547387, Acc: 0.740193\n",
      "Time use: 166.64\n",
      "Epoch: 4, Process: 102400/103395, Loss: 1.507863, Acc: 0.754519\n",
      "Time use: 166.61\n",
      "val loss: [1.5045812]\n",
      "model trained and saved\n",
      "\n",
      "### EPOCH 5\n",
      "\n",
      "Epoch: 5, Process: 0/103395, Loss: 1.509009, Acc: 0.761062\n",
      "Time use: 18.98\n",
      "Epoch: 5, Process: 25600/103395, Loss: 1.529973, Acc: 0.739486\n",
      "Time use: 164.42\n",
      "Epoch: 5, Process: 51200/103395, Loss: 1.499887, Acc: 0.760095\n",
      "Time use: 166.39\n",
      "Epoch: 5, Process: 76800/103395, Loss: 1.539073, Acc: 0.744173\n",
      "Time use: 161.68\n",
      "Epoch: 5, Process: 102400/103395, Loss: 1.520145, Acc: 0.752770\n",
      "Time use: 160.36\n",
      "val loss: [1.5081208]\n",
      "model trained and saved\n",
      "\n",
      "### EPOCH 6\n",
      "\n",
      "Epoch: 6, Process: 0/103395, Loss: 1.518537, Acc: 0.756342\n",
      "Time use: 20.49\n",
      "Epoch: 6, Process: 25600/103395, Loss: 1.520371, Acc: 0.748832\n",
      "Time use: 158.01\n",
      "Epoch: 6, Process: 51200/103395, Loss: 1.495472, Acc: 0.767815\n",
      "Time use: 158.42\n",
      "Epoch: 6, Process: 76800/103395, Loss: 1.521601, Acc: 0.752132\n",
      "Time use: 158.36\n",
      "Epoch: 6, Process: 102400/103395, Loss: 1.491812, Acc: 0.763848\n",
      "Time use: 157.50\n",
      "val loss: [1.4835103]\n",
      "model trained and saved\n",
      "\n",
      "### EPOCH 7\n",
      "\n",
      "Epoch: 7, Process: 0/103395, Loss: 1.484272, Acc: 0.767552\n",
      "Time use: 19.06\n",
      "Epoch: 7, Process: 25600/103395, Loss: 1.504447, Acc: 0.753505\n",
      "Time use: 157.24\n",
      "Epoch: 7, Process: 51200/103395, Loss: 1.482693, Acc: 0.769596\n",
      "Time use: 158.55\n",
      "Epoch: 7, Process: 76800/103395, Loss: 1.495900, Acc: 0.762933\n",
      "Time use: 158.36\n",
      "Epoch: 7, Process: 102400/103395, Loss: 1.474471, Acc: 0.767930\n",
      "Time use: 158.28\n",
      "val loss: [1.4638338]\n",
      "model trained and saved\n",
      "\n",
      "### EPOCH 8\n",
      "\n",
      "Epoch: 8, Process: 0/103395, Loss: 1.480541, Acc: 0.768732\n",
      "Time use: 21.58\n",
      "Epoch: 8, Process: 25600/103395, Loss: 1.479918, Acc: 0.762266\n",
      "Time use: 157.01\n",
      "Epoch: 8, Process: 51200/103395, Loss: 1.454029, Acc: 0.779691\n",
      "Time use: 158.94\n",
      "Epoch: 8, Process: 76800/103395, Loss: 1.483588, Acc: 0.769187\n",
      "Time use: 159.31\n",
      "Epoch: 8, Process: 102400/103395, Loss: 1.462836, Acc: 0.774344\n",
      "Time use: 160.00\n",
      "val loss: [1.4503686]\n",
      "model trained and saved\n",
      "\n",
      "### EPOCH 9\n",
      "\n",
      "Epoch: 9, Process: 0/103395, Loss: 1.444646, Acc: 0.780531\n",
      "Time use: 20.55\n",
      "Epoch: 9, Process: 25600/103395, Loss: 1.443630, Acc: 0.772196\n",
      "Time use: 158.85\n",
      "Epoch: 9, Process: 51200/103395, Loss: 1.418940, Acc: 0.799881\n",
      "Time use: 160.14\n",
      "Epoch: 9, Process: 76800/103395, Loss: 1.436978, Acc: 0.785674\n",
      "Time use: 174.49\n",
      "Epoch: 9, Process: 102400/103395, Loss: 1.407430, Acc: 0.796501\n",
      "Time use: 190.30\n",
      "val loss: [1.4042552]\n",
      "model trained and saved\n",
      "\n",
      "### EPOCH 10\n",
      "\n",
      "Epoch: 10, Process: 0/103395, Loss: 1.434077, Acc: 0.789381\n",
      "Time use: 24.18\n",
      "Epoch: 10, Process: 25600/103395, Loss: 1.411697, Acc: 0.790304\n",
      "Time use: 164.54\n",
      "Epoch: 10, Process: 51200/103395, Loss: 1.391096, Acc: 0.802850\n",
      "Time use: 169.07\n",
      "Epoch: 10, Process: 76800/103395, Loss: 1.404393, Acc: 0.799318\n",
      "Time use: 162.08\n",
      "Epoch: 10, Process: 102400/103395, Loss: 1.379898, Acc: 0.805248\n",
      "Time use: 162.25\n",
      "val loss: [1.3745155]\n",
      "model trained and saved\n",
      "\n",
      "### EPOCH 11\n",
      "\n",
      "Epoch: 11, Process: 0/103395, Loss: 1.372955, Acc: 0.815339\n",
      "Time use: 22.98\n",
      "Epoch: 11, Process: 25600/103395, Loss: 1.365731, Acc: 0.801986\n",
      "Time use: 159.64\n",
      "Epoch: 11, Process: 51200/103395, Loss: 1.333356, Acc: 0.822447\n",
      "Time use: 161.62\n",
      "Epoch: 11, Process: 76800/103395, Loss: 1.368636, Acc: 0.808982\n",
      "Time use: 161.87\n",
      "Epoch: 11, Process: 102400/103395, Loss: 1.339678, Acc: 0.818659\n",
      "Time use: 161.68\n",
      "val loss: [1.3496946]\n",
      "model trained and saved\n",
      "\n",
      "### EPOCH 12\n",
      "\n",
      "Epoch: 12, Process: 0/103395, Loss: 1.349535, Acc: 0.819469\n",
      "Time use: 23.61\n",
      "Epoch: 12, Process: 25600/103395, Loss: 1.365253, Acc: 0.802570\n",
      "Time use: 159.32\n",
      "Epoch: 12, Process: 51200/103395, Loss: 1.336520, Acc: 0.829572\n",
      "Time use: 161.72\n",
      "Epoch: 12, Process: 76800/103395, Loss: 1.355688, Acc: 0.817510\n",
      "Time use: 161.98\n",
      "Epoch: 12, Process: 102400/103395, Loss: 1.331409, Acc: 0.825656\n",
      "Time use: 162.21\n",
      "val loss: [1.3183831]\n",
      "model trained and saved\n",
      "\n",
      "### EPOCH 13\n",
      "\n",
      "Epoch: 13, Process: 0/103395, Loss: 1.320839, Acc: 0.833628\n",
      "Time use: 24.37\n",
      "Epoch: 13, Process: 25600/103395, Loss: 1.333348, Acc: 0.813668\n",
      "Time use: 159.49\n",
      "Epoch: 13, Process: 51200/103395, Loss: 1.337670, Acc: 0.827197\n",
      "Time use: 162.88\n",
      "Epoch: 13, Process: 76800/103395, Loss: 1.329374, Acc: 0.827175\n",
      "Time use: 163.40\n",
      "Epoch: 13, Process: 102400/103395, Loss: 1.330972, Acc: 0.829154\n",
      "Time use: 163.45\n",
      "val loss: [1.3189799]\n",
      "model trained and saved\n",
      "\n",
      "### EPOCH 14\n",
      "\n",
      "Epoch: 14, Process: 0/103395, Loss: 1.290777, Acc: 0.843068\n",
      "Time use: 25.10\n",
      "Epoch: 14, Process: 25600/103395, Loss: 1.315223, Acc: 0.822430\n",
      "Time use: 160.90\n",
      "Epoch: 14, Process: 51200/103395, Loss: 1.306402, Acc: 0.844418\n",
      "Time use: 163.84\n",
      "Epoch: 14, Process: 76800/103395, Loss: 1.311181, Acc: 0.836271\n",
      "Time use: 164.03\n",
      "Epoch: 14, Process: 102400/103395, Loss: 1.283682, Acc: 0.848396\n",
      "Time use: 163.78\n",
      "val loss: [1.2852565]\n",
      "model trained and saved\n"
     ]
    }
   ],
   "source": [
    "'''training the transformer'''\n",
    "import time\n",
    "\n",
    "num_of_dp = X_train.shape[0]\n",
    "\n",
    "DISPLAY_STEP = 200\n",
    "\n",
    "EPOCH = 15\n",
    "\n",
    "iters_each_epoch = X_train.shape[0] // BATCH_SIZE\n",
    "\n",
    "\n",
    "with tf.Session(graph=g.graph) as sess:\n",
    "    sess.run(tf.global_variables_initializer())\n",
    "    t0 = time.time()\n",
    "    \n",
    "    for i in range(EPOCH):\n",
    "        print(\"\\n### EPOCH %d\\n\"%i)\n",
    "        for j in range(iters_each_epoch):\n",
    "            start_id = BATCH_SIZE * j\n",
    "            end_id = BATCH_SIZE * (j+1)\n",
    "            _, loss, acc = sess.run(\n",
    "                [g.train_op, g.mean_loss, g.acc],\n",
    "                {\n",
    "                    g.x:X_train[start_id:end_id],\n",
    "                    g.y:Y_train[start_id:end_id],\n",
    "                }\n",
    "            )\n",
    "            if j%DISPLAY_STEP == 0:\n",
    "                print(\"Epoch: %d, Process: %d/%d, Loss: %f, Acc: %f\"%(i, start_id, num_of_dp, loss, acc))\n",
    "                t1 = time.time()\n",
    "                print(\"Time use: %.2f\"%(t1-t0))\n",
    "                t0 = t1\n",
    "        \n",
    "        # eval\n",
    "        val_loss = sess.run(\n",
    "                [g.mean_loss],\n",
    "                {\n",
    "                    g.x:X_test[:BATCH_SIZE],\n",
    "                    g.y:Y_test[:BATCH_SIZE],\n",
    "                }\n",
    "            )\n",
    "        print(\"val loss:\", val_loss)\n",
    "        \n",
    "        # save\n",
    "        gs = sess.run(g.global_step) \n",
    "        tf.train.Saver().save(sess, hp.logdir + '/model_epoch_%02d_gs_%d' % (i, gs))\n",
    "        print(\"model trained and saved\")\n"
   ]
  },
  {
   "cell_type": "markdown",
   "metadata": {
    "deletable": true,
    "editable": true
   },
   "source": [
    "## Prediction (IMPLEMENTATION)"
   ]
  },
  {
   "cell_type": "code",
   "execution_count": 48,
   "metadata": {
    "collapsed": true
   },
   "outputs": [],
   "source": [
    "# build the inference graph\n",
    "transformer_infer = Graph(ENG_VOCAB_SIZE, FRE_VOCAB_SIZE, False)"
   ]
  },
  {
   "cell_type": "code",
   "execution_count": 56,
   "metadata": {
    "collapsed": false
   },
   "outputs": [],
   "source": [
    "def transformer_predict(x, batch_size):\n",
    "    # TODO: inference using transformer\n",
    "    \n",
    "    # pad to 22\n",
    "    x = np.hstack([x, np.zeros([x.shape[0], FRE_SEQ_LEN-ENG_SEQ_LEN])]) #pad it to len=22\n",
    "    \n",
    "     ### Autoregressive inference\n",
    "    preds = np.zeros((batch_size, FRE_SEQ_LEN), np.int32)\n",
    "    \n",
    "    with tf.Session(graph=g.graph) as sess:\n",
    "        #sess.run(tf.global_variables_initializer())\n",
    "        \n",
    "        load_path = tf.train.latest_checkpoint(hp.logdir)\n",
    "        loader = tf.train.import_meta_graph(load_path + '.meta')\n",
    "        loader.restore(sess, load_path)\n",
    "        print(\"restored\")\n",
    "        \n",
    "        for j in range(FRE_SEQ_LEN):\n",
    "            #_preds = sess.run(transformer_infer.preds, {transformer_infer.x: x, transformer_infer.y: preds})\n",
    "            _preds = sess.run(g.preds, {g.x: x, g.y: preds})# TODO: run that\n",
    "            preds[:, j] = _preds[:, j]\n",
    "\n",
    "    return preds"
   ]
  },
  {
   "cell_type": "markdown",
   "metadata": {},
   "source": [
    "### Evaluate Transformer"
   ]
  },
  {
   "cell_type": "code",
   "execution_count": 57,
   "metadata": {
    "collapsed": false,
    "deletable": true,
    "editable": true
   },
   "outputs": [
    {
     "name": "stdout",
     "output_type": "stream",
     "text": [
      "INFO:tensorflow:Restoring parameters from logdir/model_epoch_14_gs_12105\n",
      "restored\n",
      "Sample 1:\n",
      "il a vu un camion jaune brillant <EOS> <EOS> <EOS> <EOS> <EOS> <EOS> voiture jaune <EOS> <EOS> est <EOS> <EOS> <EOS> <EOS>\n",
      "Il a vu un vieux camion jaune\n",
      "Sample 2:\n",
      "new jersey est parfois agréable en avril et il est neigeux en septembre <EOS> en septembre <EOS> en février <EOS> en juillet\n",
      "new jersey est parfois calme pendant l' automne et il est neigeux en avril <EOS> <PAD> <PAD> <PAD> <PAD> <PAD> <PAD> <PAD>\n"
     ]
    }
   ],
   "source": [
    "def final_predictions(x, y, x_tk, y_tk):\n",
    "    \"\"\"\n",
    "    Gets predictions using the final model\n",
    "    :param x: Preprocessed English data\n",
    "    :param y: Preprocessed French data\n",
    "    :param x_tk: English tokenizer\n",
    "    :param y_tk: French tokenizer\n",
    "    \"\"\"\n",
    "    ## DON'T EDIT ANYTHING BELOW THIS LINE\n",
    "    y_id_to_word = {value: key for key, value in y_tk.word_index.items()}\n",
    "    y_id_to_word[0] = '<PAD>'\n",
    "    y_id_to_word[TGT_S_INDEX] = \"<S>\"\n",
    "    y_id_to_word[TGT_E_INDEX] = \"<EOS>\"\n",
    "\n",
    "    sentence = 'he saw a old yellow truck'\n",
    "    sentence = [x_tk.word_index[word] for word in sentence.split()]\n",
    "    sentence = pad_sequences([sentence], maxlen=x.shape[-1], padding='post')\n",
    "    sentences = np.array([sentence[0], x[0]])\n",
    "    predictions = transformer_predict(sentences, len(sentences))\n",
    "\n",
    "#     print('Sample 1:')\n",
    "#     print(' '.join([y_id_to_word[np.argmax(x)] for x in predictions[0]]))\n",
    "#     print('Il a vu un vieux camion jaune')\n",
    "#     print('Sample 2:')\n",
    "#     print(' '.join([y_id_to_word[np.argmax(x)] for x in predictions[1]]))\n",
    "#     print(' '.join([y_id_to_word[np.argmax(x)] for x in y[0]]))\n",
    "    \n",
    "    print('Sample 1:')\n",
    "    print(' '.join([y_id_to_word[x] for x in predictions[0]]))\n",
    "    print('Il a vu un vieux camion jaune')\n",
    "    print('Sample 2:')\n",
    "    print(' '.join([y_id_to_word[x] for x in predictions[1]]))\n",
    "    print(' '.join([y_id_to_word[x[0]] for x in y[0]]))\n",
    "\n",
    "\n",
    "\n",
    "final_predictions(preproc_english_sentences, preproc_french_sentences, english_tokenizer, french_tokenizer)"
   ]
  },
  {
   "cell_type": "markdown",
   "metadata": {
    "deletable": true,
    "editable": true
   },
   "source": [
    "## Submission\n",
    "When you are ready to submit your project, do the following steps:\n",
    "1. Ensure you pass all points on the [rubric](https://review.udacity.com/#!/rubrics/1004/view).\n",
    "2. Submit the following in a zip file.\n",
    "  - `helper.py`\n",
    "  - `machine_translation.ipynb`\n",
    "  - `machine_translation.html`\n",
    "    - You can export the notebook by navigating to **File -> Download as -> HTML (.html)**."
   ]
  }
 ],
 "metadata": {
  "anaconda-cloud": {},
  "kernelspec": {
   "display_name": "Python [py3]",
   "language": "python",
   "name": "Python [py3]"
  },
  "language_info": {
   "codemirror_mode": {
    "name": "ipython",
    "version": 3
   },
   "file_extension": ".py",
   "mimetype": "text/x-python",
   "name": "python",
   "nbconvert_exporter": "python",
   "pygments_lexer": "ipython3",
   "version": "3.5.2"
  }
 },
 "nbformat": 4,
 "nbformat_minor": 0
}
